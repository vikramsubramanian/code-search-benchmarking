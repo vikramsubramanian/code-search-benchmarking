{
 "cells": [
  {
   "cell_type": "code",
   "execution_count": null,
   "metadata": {},
   "outputs": [],
   "source": [
    "!pip install voyageai\n",
    "\n",
    "import numpy as np\n",
    "from tqdm import tqdm\n",
    "from data_utils import create_dataset, create_loader\n",
    "\n",
    "import voyageai \n",
    "from voyageai import get_embeddings\n",
    "\n",
    "voyageai.api_key = \"\"  # add you Voyage API KEY"
   ]
  },
  {
   "cell_type": "code",
   "execution_count": null,
   "metadata": {},
   "outputs": [],
   "source": [
    "def get_feats(data_loader, input_t, desc='Get feats'):\n",
    "    embeds = []\n",
    "    max_token_length = 15000\n",
    "\n",
    "    for text in tqdm(data_loader, total=len(data_loader), desc=desc):\n",
    "\n",
    "        n = 0\n",
    "        while(n<len(text)):\n",
    "          text[n] = text[n][0:max_token_length]\n",
    "          n += 1\n",
    "        \n",
    "        i = 0\n",
    "        while(i<len(text)):\n",
    "          embed = get_embeddings(text[i:i+8], model=\"voyage-01\", input_type=input_t)\n",
    "          for e in embed:\n",
    "            embeds.append(e)\n",
    "          i += 8\n",
    "\n",
    "    return embeds\n",
    "\n",
    "\n",
    "def contrast_evaluation(text_embeds, code_embeds, img2txt):\n",
    "    text_embeds = np.array(text_embeds)\n",
    "    code_embeds = np.array(code_embeds)\n",
    "    score_matrix_i2t = text_embeds @ code_embeds.T\n",
    "    scores_i2t = score_matrix_i2t\n",
    "\n",
    "    ranks = np.ones(scores_i2t.shape[0]) * -1\n",
    "\n",
    "    for index, score in enumerate(scores_i2t):\n",
    "        inds = np.argsort(score)[::-1]\n",
    "        ranks[index] = np.where(inds == img2txt[index])[0][0]\n",
    "\n",
    "\n",
    "    # Compute metrics\n",
    "    tr1 = 100.0 * len(np.where(ranks < 1)[0]) / len(ranks)\n",
    "    tr5 = 100.0 * len(np.where(ranks < 5)[0]) / len(ranks)\n",
    "    tr10 = 100.0 * len(np.where(ranks < 10)[0]) / len(ranks)\n",
    "    mrr = 100.0 * np.mean(1 / (ranks + 1))\n",
    "\n",
    "\n",
    "    eval_result = {'r1': tr1,\n",
    "                   'r5': tr5,\n",
    "                   'r10': tr10,\n",
    "                   'mrr': mrr}\n",
    "    return eval_result"
   ]
  },
  {
   "cell_type": "code",
   "execution_count": null,
   "metadata": {},
   "outputs": [],
   "source": [
    "print(\"\\nCreating retrieval dataset\")\n",
    "#change language and path to dataset here\n",
    "_, _, test_dataset, code_dataset = create_dataset('dataset/CSN', 'ruby')\n",
    "\n",
    "test_loader, code_loader = create_loader([test_dataset, code_dataset], [None, None],\n",
    "                                         batch_size=[128, 128],\n",
    "                                         num_workers=[4, 4], is_trains=[False, False], collate_fns=[None, None])\n",
    "\n",
    "\n",
    "print('\\nStart zero-shot evaluation...')\n",
    "\n",
    "text_embeds = get_feats(test_loader, 'query', desc='Get text feats')\n",
    "code_embeds = get_feats(code_loader, 'document', desc='Get code feats')\n",
    "test_result = contrast_evaluation(text_embeds, code_embeds, test_loader.dataset.text2code)\n",
    "\n",
    "print(f'\\n====> zero-shot test result: ', test_result)"
   ]
  }
 ],
 "metadata": {
  "language_info": {
   "name": "python"
  },
  "orig_nbformat": 4
 },
 "nbformat": 4,
 "nbformat_minor": 2
}
